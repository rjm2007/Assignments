{
 "cells": [
  {
   "cell_type": "markdown",
   "id": "995808b6-223e-49ce-8a32-0a7c30bc29d4",
   "metadata": {},
   "source": [
    "Q1. How do you comment code in Python? What are the different types of comments?### "
   ]
  },
  {
   "cell_type": "code",
   "execution_count": 1,
   "id": "dd192999-edd9-41f0-a223-9bb417ea64cf",
   "metadata": {},
   "outputs": [],
   "source": [
    "# this is the way we can cooment in python"
   ]
  },
  {
   "cell_type": "markdown",
   "id": "5a442bb3-489a-4301-8a7f-1315d9fdc985",
   "metadata": {},
   "source": [
    "### Q2. What are variables in Python? How do you declare and assign values to variables?"
   ]
  },
  {
   "cell_type": "code",
   "execution_count": 2,
   "id": "cb828bb7-5057-448a-874a-c2544871ccfb",
   "metadata": {},
   "outputs": [],
   "source": [
    "# the different variable in python are str, int,complex,list,tupples,set\n",
    "a=10\n",
    "b=20"
   ]
  },
  {
   "cell_type": "markdown",
   "id": "a1be1fda-732a-4c64-8434-532eae8bb92f",
   "metadata": {},
   "source": [
    "Q3. How do you convert one data type to another in Python?"
   ]
  },
  {
   "cell_type": "code",
   "execution_count": 5,
   "id": "100fd01f-ab80-401f-bca4-06f261170582",
   "metadata": {},
   "outputs": [
    {
     "data": {
      "text/plain": [
       "['r', 'u', 'd', 'r', 'a', 'k', 's', 'h']"
      ]
     },
     "execution_count": 5,
     "metadata": {},
     "output_type": "execute_result"
    }
   ],
   "source": [
    "#by using the respective function of the variable \n",
    "a='rudraksh'\n",
    "b=list(a)\n",
    "b"
   ]
  },
  {
   "cell_type": "markdown",
   "id": "4ba0c76f-2526-47e1-9cf3-71531b6faeea",
   "metadata": {},
   "source": [
    "Q4. How do you write and execute a Python script from the command line?"
   ]
  },
  {
   "cell_type": "code",
   "execution_count": 8,
   "id": "96a0e273-6677-4c2c-9389-6a4007993121",
   "metadata": {},
   "outputs": [],
   "source": [
    "# i dont know the answer\n"
   ]
  },
  {
   "cell_type": "markdown",
   "id": "9c471218-cb62-4521-9c4f-28a5fc379511",
   "metadata": {},
   "source": [
    "Q5. Given a list my_list = [1, 2, 3, 4, 5], write the code to slice the list and obtain the sub-list [2, 3]."
   ]
  },
  {
   "cell_type": "code",
   "execution_count": 9,
   "id": "574a8ef3-1fb5-4bcf-af0a-64cd003eab44",
   "metadata": {},
   "outputs": [
    {
     "data": {
      "text/plain": [
       "[2, 3]"
      ]
     },
     "execution_count": 9,
     "metadata": {},
     "output_type": "execute_result"
    }
   ],
   "source": [
    "a=[1,2,3,4,5]\n",
    "a[1:3]"
   ]
  },
  {
   "cell_type": "markdown",
   "id": "eaa2afb2-e186-405f-ac7d-2613126d4bd0",
   "metadata": {},
   "source": [
    "Q6. What is a complex number in mathematics, and how is it represented in Python?"
   ]
  },
  {
   "cell_type": "code",
   "execution_count": 10,
   "id": "8363ebad-c07e-48e3-979a-2fa7204e767c",
   "metadata": {},
   "outputs": [
    {
     "data": {
      "text/plain": [
       "(5+7j)"
      ]
     },
     "execution_count": 10,
     "metadata": {},
     "output_type": "execute_result"
    }
   ],
   "source": [
    "# the numbers which cannot be plotted in the normal x-y plane but can be plotted in argands and complex plain are said to be compex number 5+7i where 5 is real part and 7 is imaginary part\n",
    "5+7j "
   ]
  },
  {
   "cell_type": "markdown",
   "id": "a51ea498-2e64-43ab-9087-da509611c9c0",
   "metadata": {},
   "source": [
    "Q7. What is the correct way to declare a variable named age and assign the value 25 to it?"
   ]
  },
  {
   "cell_type": "code",
   "execution_count": 11,
   "id": "714a5424-0a43-4034-a481-4cf119445061",
   "metadata": {},
   "outputs": [],
   "source": [
    "age=25"
   ]
  },
  {
   "cell_type": "markdown",
   "id": "cdd18478-8c88-4523-9d13-51b5e6bde7f1",
   "metadata": {},
   "source": [
    "Q8. Declare a variable named price and assign the value 9.99 to it. What data type does this variable\n",
    "belong to?"
   ]
  },
  {
   "cell_type": "code",
   "execution_count": 13,
   "id": "dfe348f3-80ae-462b-a6ea-b99b871e0257",
   "metadata": {},
   "outputs": [],
   "source": [
    "price=9.99"
   ]
  },
  {
   "cell_type": "code",
   "execution_count": 14,
   "id": "16a15c41-7505-4650-ad8b-26fc5b4653ab",
   "metadata": {},
   "outputs": [
    {
     "data": {
      "text/plain": [
       "float"
      ]
     },
     "execution_count": 14,
     "metadata": {},
     "output_type": "execute_result"
    }
   ],
   "source": [
    "type(price)"
   ]
  },
  {
   "cell_type": "markdown",
   "id": "3050dcbf-6199-4d62-ab22-92c405a8f997",
   "metadata": {},
   "source": [
    "Q9. Create a variable named name and assign your full name to it as a string. How would you print the\n",
    "value of this variable?"
   ]
  },
  {
   "cell_type": "code",
   "execution_count": 15,
   "id": "148dccee-06e8-4cfc-a98d-48e99e8e5733",
   "metadata": {},
   "outputs": [],
   "source": [
    "name='Rudraksh Mehta'"
   ]
  },
  {
   "cell_type": "code",
   "execution_count": 16,
   "id": "d85414ef-1f21-4ec2-912c-71b4ad985a95",
   "metadata": {},
   "outputs": [
    {
     "name": "stdout",
     "output_type": "stream",
     "text": [
      "Rudraksh Mehta\n"
     ]
    }
   ],
   "source": [
    "print(name)"
   ]
  },
  {
   "cell_type": "markdown",
   "id": "097c3ad5-7761-4eb6-9299-c2060480a573",
   "metadata": {},
   "source": [
    "Q10. Given the string \"Hello, World!\", extract the substring \"World\"."
   ]
  },
  {
   "cell_type": "code",
   "execution_count": 18,
   "id": "c2d9d345-65b0-42e3-ab4c-367a57d54487",
   "metadata": {},
   "outputs": [
    {
     "data": {
      "text/plain": [
       "'World'"
      ]
     },
     "execution_count": 18,
     "metadata": {},
     "output_type": "execute_result"
    }
   ],
   "source": [
    "s='Hello, World!'\n",
    "s[-6:-1]"
   ]
  },
  {
   "cell_type": "markdown",
   "id": "01314d5b-3659-44ad-adae-4581ad5ff618",
   "metadata": {},
   "source": [
    "Q11. Create a variable named \"is_student\" and assign it a boolean value indicating whether you are\n",
    "currently a student or not."
   ]
  },
  {
   "cell_type": "code",
   "execution_count": null,
   "id": "89bcab32-9426-475a-ae2c-698e4d1fb533",
   "metadata": {},
   "outputs": [],
   "source": []
  }
 ],
 "metadata": {
  "kernelspec": {
   "display_name": "Python 3 (ipykernel)",
   "language": "python",
   "name": "python3"
  },
  "language_info": {
   "codemirror_mode": {
    "name": "ipython",
    "version": 3
   },
   "file_extension": ".py",
   "mimetype": "text/x-python",
   "name": "python",
   "nbconvert_exporter": "python",
   "pygments_lexer": "ipython3",
   "version": "3.10.8"
  }
 },
 "nbformat": 4,
 "nbformat_minor": 5
}
