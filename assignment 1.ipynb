{
 "cells": [
  {
   "cell_type": "markdown",
   "id": "f3905cd7-060f-4a5f-afb6-d68bf43d3cbc",
   "metadata": {},
   "source": [
    "# creating one variable containg following type of data\n"
   ]
  },
  {
   "cell_type": "markdown",
   "id": "e680abf9-b8d6-412e-ab00-3ec15e708771",
   "metadata": {},
   "source": [
    "#string"
   ]
  },
  {
   "cell_type": "code",
   "execution_count": 4,
   "id": "fdd9e34d-ec1a-47b9-b438-e320dfe6d9cd",
   "metadata": {},
   "outputs": [],
   "source": [
    "a=\"pw skills\""
   ]
  },
  {
   "cell_type": "markdown",
   "id": "a09ebce3-572e-4203-a856-e144fdab0841",
   "metadata": {},
   "source": [
    "#float"
   ]
  },
  {
   "cell_type": "code",
   "execution_count": 5,
   "id": "78f688b0-f58d-4cda-b622-cdf27f53e4b1",
   "metadata": {},
   "outputs": [],
   "source": [
    "b=49.33"
   ]
  },
  {
   "cell_type": "markdown",
   "id": "f8826e46-3f29-42f3-8286-c1977837b929",
   "metadata": {},
   "source": [
    "#list"
   ]
  },
  {
   "cell_type": "code",
   "execution_count": 6,
   "id": "f6a39f94-0f9d-4032-832f-4b09a097f155",
   "metadata": {},
   "outputs": [],
   "source": [
    "l=[4,5,99.34, \"pw skills\", True]"
   ]
  },
  {
   "cell_type": "markdown",
   "id": "5817fa07-dabc-42fc-a9f0-ddf55ee8c248",
   "metadata": {},
   "source": [
    "#tupple"
   ]
  },
  {
   "cell_type": "code",
   "execution_count": 7,
   "id": "28e059f2-d631-402f-bfdd-858b343193a2",
   "metadata": {},
   "outputs": [
    {
     "data": {
      "text/plain": [
       "5"
      ]
     },
     "execution_count": 7,
     "metadata": {},
     "output_type": "execute_result"
    }
   ],
   "source": [
    "l[1]"
   ]
  },
  {
   "cell_type": "markdown",
   "id": "aadede5f-1884-4f92-bf25-299b359c1ef9",
   "metadata": {},
   "source": [
    "#Q2. Given are some following variables containing data:"
   ]
  },
  {
   "cell_type": "markdown",
   "id": "76e658e5-fdc5-4de1-9a8d-5facf77666e3",
   "metadata": {},
   "source": [
    "#(i) var1 = ‘ ‘\n",
    "answer: str\n",
    "\n",
    "#(ii) var2 = ‘[ DS , ML , Python]’\n",
    "answer: str\n",
    "\n",
    "#(iii) var3 = [ ‘DS’ , ’ML’ , ‘Python’ ]\n",
    "answer: list\n",
    "\n",
    "#(iv) var4 = 1.\n",
    "answer: integer"
   ]
  },
  {
   "cell_type": "markdown",
   "id": "d01d604e-0bda-40a4-bf87-6befa2daef5a",
   "metadata": {},
   "source": [
    "#Q3. Explain the use of the following operators using an example:\n",
    "(i) /\n",
    "(ii) %\n",
    "(iii) //\n",
    "(iv) **"
   ]
  },
  {
   "cell_type": "code",
   "execution_count": 9,
   "id": "47395a78-a898-44fd-9517-4c65bbf8c806",
   "metadata": {},
   "outputs": [
    {
     "data": {
      "text/plain": [
       "1.25"
      ]
     },
     "execution_count": 9,
     "metadata": {},
     "output_type": "execute_result"
    }
   ],
   "source": [
    "5/4 #divisom"
   ]
  },
  {
   "cell_type": "code",
   "execution_count": 10,
   "id": "8c3f41f1-6625-437a-ae2f-7e91ae5ff92f",
   "metadata": {},
   "outputs": [
    {
     "data": {
      "text/plain": [
       "2"
      ]
     },
     "execution_count": 10,
     "metadata": {},
     "output_type": "execute_result"
    }
   ],
   "source": [
    "20%3 #shows us the remainder"
   ]
  },
  {
   "cell_type": "code",
   "execution_count": 11,
   "id": "65f7b2ed-aaf4-43aa-9219-def7667a38e6",
   "metadata": {},
   "outputs": [
    {
     "data": {
      "text/plain": [
       "2"
      ]
     },
     "execution_count": 11,
     "metadata": {},
     "output_type": "execute_result"
    }
   ],
   "source": [
    "5//2 #floor function"
   ]
  },
  {
   "cell_type": "code",
   "execution_count": 12,
   "id": "1a484bfa-948f-42be-9383-c310b25847af",
   "metadata": {},
   "outputs": [
    {
     "data": {
      "text/plain": [
       "8"
      ]
     },
     "execution_count": 12,
     "metadata": {},
     "output_type": "execute_result"
    }
   ],
   "source": [
    "2**3 #exponential"
   ]
  },
  {
   "cell_type": "markdown",
   "id": "2197871a-54c3-4507-b89e-a25b4926c069",
   "metadata": {},
   "source": [
    "# Q4. Create a list of length 10 of your choice containing multiple types of data. Using for loop print the\n",
    "element and its data type."
   ]
  },
  {
   "cell_type": "code",
   "execution_count": 15,
   "id": "7287d663-5add-4acf-9b7b-6e1f06627090",
   "metadata": {},
   "outputs": [
    {
     "name": "stdout",
     "output_type": "stream",
     "text": [
      "<class 'int'> 2\n",
      "<class 'int'> 3\n",
      "<class 'int'> 4\n",
      "<class 'int'> 10\n",
      "<class 'str'> pw skills\n",
      "<class 'float'> 94.34\n",
      "<class 'bool'> True\n",
      "<class 'range'> range(0, 10)\n",
      "<class 'int'> 12\n",
      "<class 'int'> 24\n"
     ]
    }
   ],
   "source": [
    "l=[2,3,4,10,\"pw skills\", 94.34, True,range(10),12,24]\n",
    "for i in l:\n",
    "    print(type(i),i)"
   ]
  },
  {
   "cell_type": "markdown",
   "id": "3d7cfc9b-a9a0-467b-88d8-a8727adc0d83",
   "metadata": {},
   "source": [
    "#Q5. Using a while loop, verify if the number A is purely divisible by number B and if so then how many\n",
    "times it can be divisible."
   ]
  },
  {
   "cell_type": "code",
   "execution_count": 27,
   "id": "5bca1a53-66a3-4d95-afbe-54afe7c9debe",
   "metadata": {},
   "outputs": [
    {
     "name": "stdout",
     "output_type": "stream",
     "text": [
      "1\n",
      "2\n",
      "3\n",
      "4\n",
      "5\n",
      "6\n",
      "7\n",
      "8\n",
      "9\n"
     ]
    }
   ],
   "source": [
    "a=30\n",
    "b=3\n",
    "i=1\n",
    "n=10\n",
    "while n>i:\n",
    "    if a%b==0:\n",
    "    \n",
    "    \n",
    "    \n",
    "     print(i)\n",
    "    i=i+1\n",
    "   \n",
    "        \n"
   ]
  },
  {
   "cell_type": "markdown",
   "id": "2461cbd5-66b3-49b5-8afa-a1628c9d0f53",
   "metadata": {},
   "source": [
    "#Create a list containing 25 int type data. Using for loop and if-else condition print if the element is\n",
    "divisible by 3 or not."
   ]
  },
  {
   "cell_type": "code",
   "execution_count": 34,
   "id": "dd681273-65f5-49a5-a957-0ffbb2899c46",
   "metadata": {},
   "outputs": [
    {
     "name": "stdout",
     "output_type": "stream",
     "text": [
      "0 divisible by 3\n",
      "1 not divisible by 3\n",
      "2 not divisible by 3\n",
      "3 divisible by 3\n",
      "4 not divisible by 3\n",
      "5 not divisible by 3\n",
      "6 divisible by 3\n",
      "7 not divisible by 3\n",
      "8 not divisible by 3\n",
      "9 divisible by 3\n",
      "10 not divisible by 3\n",
      "11 not divisible by 3\n",
      "12 divisible by 3\n",
      "13 not divisible by 3\n",
      "14 not divisible by 3\n",
      "15 divisible by 3\n",
      "16 not divisible by 3\n",
      "17 not divisible by 3\n",
      "18 divisible by 3\n",
      "19 not divisible by 3\n",
      "20 not divisible by 3\n",
      "21 divisible by 3\n",
      "22 not divisible by 3\n",
      "23 not divisible by 3\n",
      "24 divisible by 3\n",
      "25 not divisible by 3\n"
     ]
    }
   ],
   "source": [
    "for i in range(26):\n",
    "    if i%3==0:\n",
    "        print(i,\"divisible by 3\")\n",
    "    else:\n",
    "        print(i,\"not divisible by 3\")"
   ]
  },
  {
   "cell_type": "markdown",
   "id": "6ebf88fd-5f57-427e-8f02-aa9b36a456bf",
   "metadata": {},
   "source": [
    "#Q7. What do you understand about mutable and immutable data types? Give examples for both showing\n",
    "this property."
   ]
  },
  {
   "cell_type": "code",
   "execution_count": 35,
   "id": "fda83fdb-e98a-4873-aadd-87e3da547070",
   "metadata": {},
   "outputs": [
    {
     "ename": "TypeError",
     "evalue": "'str' object does not support item assignment",
     "output_type": "error",
     "traceback": [
      "\u001b[0;31m---------------------------------------------------------------------------\u001b[0m",
      "\u001b[0;31mTypeError\u001b[0m                                 Traceback (most recent call last)",
      "Cell \u001b[0;32mIn[35], line 2\u001b[0m\n\u001b[1;32m      1\u001b[0m a\u001b[38;5;241m=\u001b[39m\u001b[38;5;124m\"\u001b[39m\u001b[38;5;124mrudraksh\u001b[39m\u001b[38;5;124m\"\u001b[39m\n\u001b[0;32m----> 2\u001b[0m \u001b[43ma\u001b[49m\u001b[43m[\u001b[49m\u001b[38;5;241;43m2\u001b[39;49m\u001b[43m]\u001b[49m\u001b[38;5;241m=\u001b[39m\u001b[38;5;124m\"\u001b[39m\u001b[38;5;124mf\u001b[39m\u001b[38;5;124m\"\u001b[39m\n",
      "\u001b[0;31mTypeError\u001b[0m: 'str' object does not support item assignment"
     ]
    }
   ],
   "source": [
    "a=\"rudraksh\"\n",
    "a[2]=\"f\" #it will show eror that is str are imutable it means we cannot change the character of the str"
   ]
  },
  {
   "cell_type": "code",
   "execution_count": 36,
   "id": "bd8939ec-b511-471a-aadc-8475304c3aad",
   "metadata": {},
   "outputs": [],
   "source": [
    "l=[1,2,3,\"pw\",\"rjm\"]"
   ]
  },
  {
   "cell_type": "code",
   "execution_count": 37,
   "id": "888036a7-88e6-49e0-ac40-ef422a94c4ee",
   "metadata": {},
   "outputs": [],
   "source": [
    "l[4]='abcd'"
   ]
  },
  {
   "cell_type": "code",
   "execution_count": 38,
   "id": "68725f36-811e-4c68-ac8c-3990f213fc4d",
   "metadata": {},
   "outputs": [
    {
     "data": {
      "text/plain": [
       "[1, 2, 3, 'pw', 'abcd']"
      ]
     },
     "execution_count": 38,
     "metadata": {},
     "output_type": "execute_result"
    }
   ],
   "source": [
    "l #here we can see that items in a list can be changed can be mutate"
   ]
  },
  {
   "cell_type": "code",
   "execution_count": null,
   "id": "e15ac864-a1b0-4761-a3e3-8c776f78252d",
   "metadata": {},
   "outputs": [],
   "source": []
  }
 ],
 "metadata": {
  "kernelspec": {
   "display_name": "Python 3 (ipykernel)",
   "language": "python",
   "name": "python3"
  },
  "language_info": {
   "codemirror_mode": {
    "name": "ipython",
    "version": 3
   },
   "file_extension": ".py",
   "mimetype": "text/x-python",
   "name": "python",
   "nbconvert_exporter": "python",
   "pygments_lexer": "ipython3",
   "version": "3.10.8"
  }
 },
 "nbformat": 4,
 "nbformat_minor": 5
}
