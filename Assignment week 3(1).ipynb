{
 "cells": [
  {
   "cell_type": "markdown",
   "id": "38f9eb3f-ec2b-4d17-86b5-b5a892e9e1e1",
   "metadata": {},
   "source": [
    "### Q1. Which keyword is used to create a function? Create a function to return a list of odd numbers in the range 1 to 25.\n"
   ]
  },
  {
   "cell_type": "code",
   "execution_count": 8,
   "id": "872b3f8f-94d6-4d3e-89f3-d3cf037f8e74",
   "metadata": {},
   "outputs": [],
   "source": [
    "# def is the keyword used to create a function\n",
    "def odd():\n",
    "    for i in range(1,26):\n",
    "        if i%2!=0:\n",
    "            print(i)"
   ]
  },
  {
   "cell_type": "code",
   "execution_count": 9,
   "id": "da8d22a2-2153-4c0d-b85e-4725b92666ac",
   "metadata": {},
   "outputs": [
    {
     "name": "stdout",
     "output_type": "stream",
     "text": [
      "1\n",
      "3\n",
      "5\n",
      "7\n",
      "9\n",
      "11\n",
      "13\n",
      "15\n",
      "17\n",
      "19\n",
      "21\n",
      "23\n",
      "25\n"
     ]
    }
   ],
   "source": [
    "odd()"
   ]
  },
  {
   "cell_type": "markdown",
   "id": "9d4976e6-b833-4155-9a26-9bc5438d2d17",
   "metadata": {},
   "source": [
    "### Q2. Why *args and **kwargs is used in some functions? Create a function each for *args and **kwargs to demonstarte their use"
   ]
  },
  {
   "cell_type": "code",
   "execution_count": 10,
   "id": "17579593-d5de-448a-bc6a-e49f193b0cae",
   "metadata": {},
   "outputs": [],
   "source": [
    "# *args are used to give many inputs wihtout storing in variable \n",
    "def args(*args):\n",
    "    return args"
   ]
  },
  {
   "cell_type": "code",
   "execution_count": 11,
   "id": "25bf3279-0b6f-4c7f-ba12-52c37c7567f6",
   "metadata": {},
   "outputs": [
    {
     "data": {
      "text/plain": [
       "(5, 'pwskills', (6+7j), True)"
      ]
     },
     "execution_count": 11,
     "metadata": {},
     "output_type": "execute_result"
    }
   ],
   "source": [
    "args(5,'pwskills', 6+7j,True)"
   ]
  },
  {
   "cell_type": "code",
   "execution_count": 13,
   "id": "0848c69c-132c-4d87-a488-68671d168567",
   "metadata": {},
   "outputs": [],
   "source": [
    "# **kwargs are used to store the inputs in form of key value pair\n",
    "def kwargs(**kwargs):\n",
    "    return kwargs"
   ]
  },
  {
   "cell_type": "code",
   "execution_count": 15,
   "id": "430bec00-9f7b-4902-b514-e9f101a431ed",
   "metadata": {},
   "outputs": [
    {
     "data": {
      "text/plain": [
       "{'a': 10, 'name': 'rudraksh'}"
      ]
     },
     "execution_count": 15,
     "metadata": {},
     "output_type": "execute_result"
    }
   ],
   "source": [
    "kwargs(a=10, name = \"rudraksh\")"
   ]
  },
  {
   "cell_type": "markdown",
   "id": "1b8d77dd-deb8-43f3-b1ec-5f6674bc1e84",
   "metadata": {},
   "source": [
    "### Q3. What is an iterator in python? Name the method used to initialise the iterator object and the method used for iteration. Use these methods to print the first five elements of the given list [2, 4, 6, 8, 10, 12, 14,16, 18, 20].\n",
    "\n"
   ]
  },
  {
   "cell_type": "code",
   "execution_count": 16,
   "id": "e4a89a60-47bf-461a-bcc6-b22ebed041a0",
   "metadata": {},
   "outputs": [],
   "source": [
    "# iterable can be made iterator using iter function . Iterator helps us to throw out a value or data set at every index.\n",
    "# to initialize the iterator object we use iter() \n",
    "# method used for iteration is next()"
   ]
  },
  {
   "cell_type": "code",
   "execution_count": 17,
   "id": "c5d8fb92-e6cb-47a6-9d68-df36fbc24fc9",
   "metadata": {},
   "outputs": [],
   "source": [
    "l=range(2,21,2)"
   ]
  },
  {
   "cell_type": "code",
   "execution_count": 21,
   "id": "3174f5a7-c890-4e66-8e2e-9edbd9df8ffb",
   "metadata": {},
   "outputs": [],
   "source": [
    "a=list(l)\n",
    "b=iter(a)"
   ]
  },
  {
   "cell_type": "code",
   "execution_count": 22,
   "id": "b5b43ea2-d904-49e0-86ab-4f02ed785196",
   "metadata": {},
   "outputs": [
    {
     "data": {
      "text/plain": [
       "2"
      ]
     },
     "execution_count": 22,
     "metadata": {},
     "output_type": "execute_result"
    }
   ],
   "source": [
    "next(b)"
   ]
  },
  {
   "cell_type": "code",
   "execution_count": 23,
   "id": "a0781a5d-3847-4510-bf3a-aa320089d83d",
   "metadata": {},
   "outputs": [
    {
     "data": {
      "text/plain": [
       "4"
      ]
     },
     "execution_count": 23,
     "metadata": {},
     "output_type": "execute_result"
    }
   ],
   "source": [
    "next(b)"
   ]
  },
  {
   "cell_type": "code",
   "execution_count": 24,
   "id": "8d672cd2-e236-4acc-9e57-5e7eaae16961",
   "metadata": {},
   "outputs": [
    {
     "data": {
      "text/plain": [
       "6"
      ]
     },
     "execution_count": 24,
     "metadata": {},
     "output_type": "execute_result"
    }
   ],
   "source": [
    "next(b)"
   ]
  },
  {
   "cell_type": "code",
   "execution_count": 25,
   "id": "5c742ccb-0d27-489c-99f8-a77dfab125b5",
   "metadata": {},
   "outputs": [
    {
     "data": {
      "text/plain": [
       "8"
      ]
     },
     "execution_count": 25,
     "metadata": {},
     "output_type": "execute_result"
    }
   ],
   "source": [
    "next(b) "
   ]
  },
  {
   "cell_type": "code",
   "execution_count": 26,
   "id": "efe2586c-5625-4331-a9b6-05eb583a5fe7",
   "metadata": {},
   "outputs": [
    {
     "data": {
      "text/plain": [
       "10"
      ]
     },
     "execution_count": 26,
     "metadata": {},
     "output_type": "execute_result"
    }
   ],
   "source": [
    "next(b)"
   ]
  },
  {
   "cell_type": "markdown",
   "id": "c6adbb9b-536e-42a5-9ec7-6f7f60fadeeb",
   "metadata": {},
   "source": [
    "### Q4. What is a generator function in python? Why yield keyword is used? Give an example of a generator function."
   ]
  },
  {
   "cell_type": "code",
   "execution_count": 28,
   "id": "28ff087f-b5e8-42a4-808b-dce5028bb56e",
   "metadata": {},
   "outputs": [],
   "source": [
    "# a generator function is used to declare iterators so it makes creating iterators easily and it is used to minimize the data memory consumption by creating a object function\n",
    "# yield keyword is used to yield the output one by one and it is a reserved keyword for generator function"
   ]
  },
  {
   "cell_type": "code",
   "execution_count": 29,
   "id": "270cf838-b862-4371-af3d-5ba20d4803a2",
   "metadata": {},
   "outputs": [],
   "source": [
    "def generator(*args):\n",
    "    yield args"
   ]
  },
  {
   "cell_type": "code",
   "execution_count": 33,
   "id": "b9346a44-afcc-4721-b355-048ff9131ab6",
   "metadata": {},
   "outputs": [],
   "source": [
    "a=generator('hello',\n",
    "           2,\n",
    "           3)"
   ]
  },
  {
   "cell_type": "code",
   "execution_count": 34,
   "id": "c711c794-b5ab-4e60-96b1-fec8bd485069",
   "metadata": {},
   "outputs": [
    {
     "data": {
      "text/plain": [
       "('hello', 2, 3)"
      ]
     },
     "execution_count": 34,
     "metadata": {},
     "output_type": "execute_result"
    }
   ],
   "source": [
    "next(a)"
   ]
  },
  {
   "cell_type": "markdown",
   "id": "e96ce5de-4cda-472d-9890-fdad29c8953e",
   "metadata": {},
   "source": [
    "### Q5. Create a generator function for prime numbers less than 1000. Use the next() method to print the first 20 numbers"
   ]
  },
  {
   "cell_type": "markdown",
   "id": "439ef02b-7c87-4829-9d6e-1674810c9bf0",
   "metadata": {},
   "source": [
    "### Q6. Write a python program to print the first 10 Fibonacci numbers using a while loop.\n",
    "    "
   ]
  },
  {
   "cell_type": "raw",
   "id": "e01617b3-648a-4b04-af0f-ee9d828d5ba5",
   "metadata": {},
   "source": []
  },
  {
   "cell_type": "code",
   "execution_count": 1,
   "id": "adc8b2dc-8241-4688-a956-d80c0d487c6b",
   "metadata": {},
   "outputs": [],
   "source": [
    "def fibonacci():\n",
    "    a,b=0,1\n",
    "    while True:\n",
    "        a,b=b,a+b\n",
    "        yield (a) "
   ]
  },
  {
   "cell_type": "code",
   "execution_count": 2,
   "id": "d3d4db1c-b065-466a-97d5-6f0a8332191e",
   "metadata": {},
   "outputs": [
    {
     "name": "stdout",
     "output_type": "stream",
     "text": [
      "1\n",
      "1\n",
      "2\n",
      "3\n",
      "5\n",
      "8\n",
      "13\n",
      "21\n",
      "34\n",
      "55\n",
      "89\n"
     ]
    }
   ],
   "source": [
    "c= fibonacci()\n",
    "for i in range(11):\n",
    "    print(next(c))"
   ]
  },
  {
   "cell_type": "code",
   "execution_count": 6,
   "id": "4ab442fb-fe07-403e-ae67-9d59fddf9755",
   "metadata": {},
   "outputs": [
    {
     "name": "stdout",
     "output_type": "stream",
     "text": [
      "0\n",
      "1\n",
      "1\n",
      "2\n",
      "3\n",
      "5\n",
      "8\n",
      "13\n",
      "21\n",
      "34\n"
     ]
    }
   ],
   "source": [
    "a,b=0,1\n",
    "n=0\n",
    "while n<10:\n",
    "    print(a)\n",
    "    a,b=b,a+b\n",
    "    n=n+1\n",
    "   \n",
    "    \n"
   ]
  },
  {
   "cell_type": "markdown",
   "id": "ed3222f4-bddb-46c5-845c-9900d418379e",
   "metadata": {},
   "source": [
    "### Q7. Write a List Comprehension to iterate through the given string: ‘pwskills’.Expected output: ['p', 'w', 's', 'k', 'i', 'l', 'l', 's']\n"
   ]
  },
  {
   "cell_type": "code",
   "execution_count": 7,
   "id": "d3f17a17-4282-47b1-8833-308aa3e4b560",
   "metadata": {},
   "outputs": [],
   "source": [
    "l='pwskills'"
   ]
  },
  {
   "cell_type": "code",
   "execution_count": 8,
   "id": "c2d9662e-50ba-49a5-9ea2-929fbbb5924e",
   "metadata": {},
   "outputs": [
    {
     "data": {
      "text/plain": [
       "['p', 'w', 's', 'k', 'i', 'l', 'l', 's']"
      ]
     },
     "execution_count": 8,
     "metadata": {},
     "output_type": "execute_result"
    }
   ],
   "source": [
    "list(l)"
   ]
  },
  {
   "cell_type": "code",
   "execution_count": 9,
   "id": "262c1209-3c5f-403c-a0f5-cf0b5c554a86",
   "metadata": {},
   "outputs": [
    {
     "data": {
      "text/plain": [
       "['p', 'w', 's', 'k', 'i', 'l', 'l', 's']"
      ]
     },
     "execution_count": 9,
     "metadata": {},
     "output_type": "execute_result"
    }
   ],
   "source": [
    "list(map(lambda x:x , l))"
   ]
  },
  {
   "cell_type": "code",
   "execution_count": 10,
   "id": "7d776547-f85f-47e9-9735-a7918f9b4619",
   "metadata": {},
   "outputs": [
    {
     "name": "stdout",
     "output_type": "stream",
     "text": [
      "['p', 'w', 's', 'k', 'i', 'l', 'l', 's']\n"
     ]
    }
   ],
   "source": [
    "h=[letter for letter in 'pwskills']\n",
    "print(h)"
   ]
  },
  {
   "cell_type": "markdown",
   "id": "b1c570f5-0d23-446f-88df-3014ffc1e19f",
   "metadata": {},
   "source": [
    "### Q8. Write a python program to check whether a given number is Palindrome or not using a while loop."
   ]
  },
  {
   "cell_type": "code",
   "execution_count": 14,
   "id": "59351859-5ad6-43e3-8906-e711b69963a5",
   "metadata": {},
   "outputs": [
    {
     "name": "stdin",
     "output_type": "stream",
     "text": [
      "enter the number  31\n"
     ]
    },
    {
     "name": "stdout",
     "output_type": "stream",
     "text": [
      "it is not a palindrome\n"
     ]
    }
   ],
   "source": [
    "s=input(\"enter the number \")\n",
    "rev=s[::-1]\n",
    "if rev==s:\n",
    "    print('it is a palindrome')   \n",
    "else:\n",
    "         print('it is not a palindrome')\n",
    "         \n",
    "   "
   ]
  },
  {
   "cell_type": "markdown",
   "id": "ff6a8e26-25a1-4673-9e3a-9be5b7e3cffe",
   "metadata": {},
   "source": [
    "### Q9. Write a code to print odd numbers from 1 to 100 using list comprehension."
   ]
  },
  {
   "cell_type": "code",
   "execution_count": 16,
   "id": "5982765b-32bb-451f-b3ad-fd808fefd086",
   "metadata": {},
   "outputs": [],
   "source": [
    "l=[x for x in range(1,101)]"
   ]
  },
  {
   "cell_type": "code",
   "execution_count": 17,
   "id": "de7b685b-2b79-4a67-8d58-719584cc09ca",
   "metadata": {},
   "outputs": [
    {
     "data": {
      "text/plain": [
       "[1,\n",
       " 2,\n",
       " 3,\n",
       " 4,\n",
       " 5,\n",
       " 6,\n",
       " 7,\n",
       " 8,\n",
       " 9,\n",
       " 10,\n",
       " 11,\n",
       " 12,\n",
       " 13,\n",
       " 14,\n",
       " 15,\n",
       " 16,\n",
       " 17,\n",
       " 18,\n",
       " 19,\n",
       " 20,\n",
       " 21,\n",
       " 22,\n",
       " 23,\n",
       " 24,\n",
       " 25,\n",
       " 26,\n",
       " 27,\n",
       " 28,\n",
       " 29,\n",
       " 30,\n",
       " 31,\n",
       " 32,\n",
       " 33,\n",
       " 34,\n",
       " 35,\n",
       " 36,\n",
       " 37,\n",
       " 38,\n",
       " 39,\n",
       " 40,\n",
       " 41,\n",
       " 42,\n",
       " 43,\n",
       " 44,\n",
       " 45,\n",
       " 46,\n",
       " 47,\n",
       " 48,\n",
       " 49,\n",
       " 50,\n",
       " 51,\n",
       " 52,\n",
       " 53,\n",
       " 54,\n",
       " 55,\n",
       " 56,\n",
       " 57,\n",
       " 58,\n",
       " 59,\n",
       " 60,\n",
       " 61,\n",
       " 62,\n",
       " 63,\n",
       " 64,\n",
       " 65,\n",
       " 66,\n",
       " 67,\n",
       " 68,\n",
       " 69,\n",
       " 70,\n",
       " 71,\n",
       " 72,\n",
       " 73,\n",
       " 74,\n",
       " 75,\n",
       " 76,\n",
       " 77,\n",
       " 78,\n",
       " 79,\n",
       " 80,\n",
       " 81,\n",
       " 82,\n",
       " 83,\n",
       " 84,\n",
       " 85,\n",
       " 86,\n",
       " 87,\n",
       " 88,\n",
       " 89,\n",
       " 90,\n",
       " 91,\n",
       " 92,\n",
       " 93,\n",
       " 94,\n",
       " 95,\n",
       " 96,\n",
       " 97,\n",
       " 98,\n",
       " 99,\n",
       " 100]"
      ]
     },
     "execution_count": 17,
     "metadata": {},
     "output_type": "execute_result"
    }
   ],
   "source": [
    "l"
   ]
  },
  {
   "cell_type": "code",
   "execution_count": 20,
   "id": "d24b02fa-106d-400f-92bb-d5a0809392c1",
   "metadata": {},
   "outputs": [],
   "source": [
    "l1=[x for x in l if x%2!=0  ]"
   ]
  },
  {
   "cell_type": "code",
   "execution_count": 19,
   "id": "0997e8ec-baaf-4e4e-bbe3-7268cb102652",
   "metadata": {},
   "outputs": [
    {
     "data": {
      "text/plain": [
       "[True,\n",
       " False,\n",
       " True,\n",
       " False,\n",
       " True,\n",
       " False,\n",
       " True,\n",
       " False,\n",
       " True,\n",
       " False,\n",
       " True,\n",
       " False,\n",
       " True,\n",
       " False,\n",
       " True,\n",
       " False,\n",
       " True,\n",
       " False,\n",
       " True,\n",
       " False,\n",
       " True,\n",
       " False,\n",
       " True,\n",
       " False,\n",
       " True,\n",
       " False,\n",
       " True,\n",
       " False,\n",
       " True,\n",
       " False,\n",
       " True,\n",
       " False,\n",
       " True,\n",
       " False,\n",
       " True,\n",
       " False,\n",
       " True,\n",
       " False,\n",
       " True,\n",
       " False,\n",
       " True,\n",
       " False,\n",
       " True,\n",
       " False,\n",
       " True,\n",
       " False,\n",
       " True,\n",
       " False,\n",
       " True,\n",
       " False,\n",
       " True,\n",
       " False,\n",
       " True,\n",
       " False,\n",
       " True,\n",
       " False,\n",
       " True,\n",
       " False,\n",
       " True,\n",
       " False,\n",
       " True,\n",
       " False,\n",
       " True,\n",
       " False,\n",
       " True,\n",
       " False,\n",
       " True,\n",
       " False,\n",
       " True,\n",
       " False,\n",
       " True,\n",
       " False,\n",
       " True,\n",
       " False,\n",
       " True,\n",
       " False,\n",
       " True,\n",
       " False,\n",
       " True,\n",
       " False,\n",
       " True,\n",
       " False,\n",
       " True,\n",
       " False,\n",
       " True,\n",
       " False,\n",
       " True,\n",
       " False,\n",
       " True,\n",
       " False,\n",
       " True,\n",
       " False,\n",
       " True,\n",
       " False,\n",
       " True,\n",
       " False,\n",
       " True,\n",
       " False,\n",
       " True,\n",
       " False]"
      ]
     },
     "execution_count": 19,
     "metadata": {},
     "output_type": "execute_result"
    }
   ],
   "source": []
  },
  {
   "cell_type": "code",
   "execution_count": null,
   "id": "7620ded9-f5bf-48fe-9880-f87b0aa693e7",
   "metadata": {},
   "outputs": [],
   "source": []
  }
 ],
 "metadata": {
  "kernelspec": {
   "display_name": "Python 3 (ipykernel)",
   "language": "python",
   "name": "python3"
  },
  "language_info": {
   "codemirror_mode": {
    "name": "ipython",
    "version": 3
   },
   "file_extension": ".py",
   "mimetype": "text/x-python",
   "name": "python",
   "nbconvert_exporter": "python",
   "pygments_lexer": "ipython3",
   "version": "3.10.6"
  }
 },
 "nbformat": 4,
 "nbformat_minor": 5
}
